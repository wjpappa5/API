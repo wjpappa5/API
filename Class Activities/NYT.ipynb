{
 "cells": [
  {
   "cell_type": "code",
   "execution_count": 9,
   "metadata": {},
   "outputs": [
    {
     "name": "stdout",
     "output_type": "stream",
     "text": [
      "https://api.nytimes.com/svc/search/v2/articlesearch.json?api-key=IAyUWFjgAo9DJJeXhzZFmiit4b72HhKP&q=conspiracy&begin_date=20000911&end_date=20080201\n"
     ]
    }
   ],
   "source": [
    "# Dependencies\n",
    "import requests\n",
    "from config import api_nyt\n",
    "\n",
    "url = \"https://api.nytimes.com/svc/search/v2/articlesearch.json?\"\n",
    "\n",
    "# Store a search term\n",
    "query = \"conspiracy\"\n",
    "# Search for articles published between a begin and end date\n",
    "start_date = \"20000911\"\n",
    "end_date = \"20080201\"\n",
    "# Build url\n",
    "query_url = f\"{url}api-key={api_nyt}&q={query}&begin_date={start_date}&end_date={end_date}\"\n",
    "print(query_url)"
   ]
  },
  {
   "cell_type": "code",
   "execution_count": 10,
   "metadata": {},
   "outputs": [
    {
     "name": "stdout",
     "output_type": "stream",
     "text": [
      "A snippet from the article: David Talbot reopens the question of who killed John F. Kennedy.\n",
      "A snippet from the article: A prosecutor claims to have closed the (colossal) book on that day in November.\n",
      "A snippet from the article: \n",
      "A snippet from the article: William Safire Op-Ed column hails economic gains; predicts economic growth, sustained by low interest rates made possible by productivity's suppression of inflation, will lead next year to lower unemployment rate (M)\n",
      "A snippet from the article: \n",
      "A snippet from the article: Eric Lichtblau reviews book Why America Slept: The Failure to Prevent 9/11 by Gerald Posner (M)\n",
      "A snippet from the article: Article on controversy surrounding Englewood (NJ) Police Chief David Bowman, Police Sergeant Emma Jackson and judge for forging phony document to release convicted drug offender Lloyd Fields from Bergen County jail so that he could attend his fath...\n",
      "A snippet from the article: \n",
      "A snippet from the article: Americans must not be afraid to debate Israel policy.\n",
      "A snippet from the article: IN its March 23rd issue the London Review of Books, a respected British journal, published an essay titled ''The Israel Lobby.'' The authors are two distinguished American academics (Stephen Walt of Harvard and John Mearsheimer of the University o...\n"
     ]
    }
   ],
   "source": [
    "# Retrieve articles\n",
    "articles = requests.get(query_url).json()\n",
    "alist = [article for article in articles [\"response\"][\"docs\"]]\n",
    "for article in alist:\n",
    "    print(f\"A snippet from the article: {article['snippet']}\")"
   ]
  },
  {
   "cell_type": "code",
   "execution_count": null,
   "metadata": {},
   "outputs": [],
   "source": [
    "# BONUS: How would we get 30 results? \n",
    "# HINT: Look up the page query param"
   ]
  }
 ],
 "metadata": {
  "kernelspec": {
   "display_name": "Python 3",
   "language": "python",
   "name": "python3"
  },
  "language_info": {
   "codemirror_mode": {
    "name": "ipython",
    "version": 3
   },
   "file_extension": ".py",
   "mimetype": "text/x-python",
   "name": "python",
   "nbconvert_exporter": "python",
   "pygments_lexer": "ipython3",
   "version": "3.7.6"
  },
  "varInspector": {
   "cols": {
    "lenName": 16,
    "lenType": 16,
    "lenVar": 40
   },
   "kernels_config": {
    "python": {
     "delete_cmd_postfix": "",
     "delete_cmd_prefix": "del ",
     "library": "var_list.py",
     "varRefreshCmd": "print(var_dic_list())"
    },
    "r": {
     "delete_cmd_postfix": ") ",
     "delete_cmd_prefix": "rm(",
     "library": "var_list.r",
     "varRefreshCmd": "cat(var_dic_list()) "
    }
   },
   "types_to_exclude": [
    "module",
    "function",
    "builtin_function_or_method",
    "instance",
    "_Feature"
   ],
   "window_display": false
  }
 },
 "nbformat": 4,
 "nbformat_minor": 2
}
