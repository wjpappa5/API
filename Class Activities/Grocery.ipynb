{
 "cells": [
  {
   "cell_type": "markdown",
   "metadata": {},
   "source": [
    "# Food Deserts in DC\n",
    "\n",
    "I like this concept! If executed well, this can be a really great project.\n",
    "\n",
    "Explain that food deserts have many definitions, but for urban areas, let us consider it as a place that has low access to a healthy food retail outlet or supermarket within 1 mile of a residence. "
   ]
  },
  {
   "cell_type": "code",
   "execution_count": null,
   "metadata": {},
   "outputs": [],
   "source": [
    "# Dependencies\n",
    "import pandas as pd\n",
    "import numpy as np\n",
    "import requests\n",
    "import json\n",
    "\n",
    "# Google API Key\n",
    "from config import gkey"
   ]
  },
  {
   "cell_type": "markdown",
   "metadata": {},
   "source": [
    "## Application Variables\n",
    "\n",
    "Describe briefly what this section does and how the variables work."
   ]
  },
  {
   "cell_type": "code",
   "execution_count": null,
   "metadata": {},
   "outputs": [],
   "source": [
    "# Origin address or location\n",
    "origin_location = \"1700 2nd St NW Washington, DC\"\n",
    "\n",
    "# Search radius ( 1 mile = ~1600 meters)\n",
    "origin_radius = 1600 \n",
    "\n",
    "# Google API endpoints\n",
    "geocode_url = 'https://maps.googleapis.com/maps/api/geocode/json'\n",
    "nearbysearch_url = \"https://maps.googleapis.com/maps/api/place/nearbysearch/json\"\n",
    "\n",
    "# Empty list to store grocery stores\n",
    "grocery_store_list = []"
   ]
  },
  {
   "cell_type": "markdown",
   "metadata": {},
   "source": [
    "## Data Processing Function\n",
    "\n",
    "To work around the Harris Teeter, Giant, and Safeway issue, we made two calls to the API. One for the keyword `grocery`, and the other to find type `grocery_or_supermarket`. Look at the code and you should be able to interpret it all."
   ]
  },
  {
   "cell_type": "code",
   "execution_count": null,
   "metadata": {},
   "outputs": [],
   "source": [
    "def populateGroceryStoreList(response):\n",
    "    \n",
    "    base_url = 'https://maps.googleapis.com/maps/api/distancematrix/json'\n",
    "\n",
    "    for r in response['results']:\n",
    "        try:\n",
    "            place_id = r['place_id']\n",
    "            lat = r['geometry']['location']['lat']\n",
    "            lng = r['geometry']['location']['lng']\n",
    "            destination_latlng = f'{lat},{lng}'\n",
    "            business_status = r['business_status']          \n",
    "            name = r['name']\n",
    "            vicinity = r['vicinity']\n",
    "            try:\n",
    "                price_level = r['price_level']\n",
    "            except:\n",
    "                price_level = None\n",
    "            try:\n",
    "                rating = r['rating']\n",
    "            except:\n",
    "                rating = None\n",
    "\n",
    "            params = {\n",
    "                'units': 'imperial',\n",
    "                'origins': origin_latlng,\n",
    "                'destinations': destination_latlng,\n",
    "                'key': gkey\n",
    "            }\n",
    "\n",
    "            distance_response = requests.get(base_url, params=params)\n",
    "            # print(distance_response.url)\n",
    "            distance_response = distance_response.json()\n",
    "\n",
    "            try:\n",
    "                distance_text = distance_response['rows'][0]['elements'][0]['distance']['text']\n",
    "                distance_value = distance_response['rows'][0]['elements'][0]['distance']['value']\n",
    "                duration_text = distance_response['rows'][0]['elements'][0]['duration']['text']\n",
    "                duration_value = distance_response['rows'][0]['elements'][0]['duration']['value']\n",
    "\n",
    "                grocery_store_list.append({\n",
    "                    'place_id': place_id,\n",
    "                    'name': name,\n",
    "                    'business_status': business_status,\n",
    "                    'price_level': price_level,\n",
    "                    'rating': rating,\n",
    "                    'vicinity': vicinity,\n",
    "                    'distance_text': distance_text,\n",
    "                    'distance_value': distance_value,\n",
    "                    'duration_text': duration_text,\n",
    "                    'duration_value': duration_value,\n",
    "                })\n",
    "\n",
    "            except Exception as e:\n",
    "                print(e)\n",
    "\n",
    "        except Exception as e:\n",
    "            print(e)"
   ]
  },
  {
   "cell_type": "markdown",
   "metadata": {},
   "source": [
    "## Geocode Address\n",
    "\n",
    "Explain what's happening here"
   ]
  },
  {
   "cell_type": "code",
   "execution_count": null,
   "metadata": {},
   "outputs": [],
   "source": [
    "params = {\n",
    "    'address': origin_location,\n",
    "    'key': gkey\n",
    "}\n",
    "\n",
    "response = requests.get(geocode_url, params=params)\n",
    "response = response.json()\n",
    "\n",
    "lat = response[\"results\"][0][\"geometry\"][\"location\"][\"lat\"]\n",
    "lng = response[\"results\"][0][\"geometry\"][\"location\"][\"lng\"]\n",
    "\n",
    "origin_latlng = f\"{lat},{lng}\""
   ]
  },
  {
   "cell_type": "markdown",
   "metadata": {},
   "source": [
    "## `NearbySearch` API Call\n",
    "\n",
    "This one uses the `grocery` as the keyword. "
   ]
  },
  {
   "cell_type": "code",
   "execution_count": null,
   "metadata": {},
   "outputs": [],
   "source": [
    "params = {\n",
    "    'location': origin_latlng,\n",
    "    'radius': origin_radius,\n",
    "    'keyword': 'grocery',\n",
    "    'key': gkey\n",
    "}\n",
    "\n",
    "response = requests.get(nearbysearch_url, params=params)\n",
    "print(response.url)\n",
    "response = response.json()\n",
    "\n",
    "# call function to populate grocery stores\n",
    "populateGroceryStoreList(response)"
   ]
  },
  {
   "cell_type": "markdown",
   "metadata": {},
   "source": [
    "## `NearbySearch` API Call\n",
    "\n",
    "This one uses the `grocery_or_supermarket` as the type. "
   ]
  },
  {
   "cell_type": "code",
   "execution_count": null,
   "metadata": {},
   "outputs": [],
   "source": [
    "params = {\n",
    "    'location': origin_latlng,\n",
    "    'radius': origin_radius,\n",
    "    'type': \"grocery_or_supermarket\",\n",
    "    #'type': \"grocery_or_supermarket|supermarket|food\",\n",
    "    \"key\": gkey\n",
    "}\n",
    "\n",
    "response = requests.get(nearbysearch_url, params=params)\n",
    "print(response.url)\n",
    "response = response.json()\n",
    "\n",
    "# call function to populate grocery stores\n",
    "populateGroceryStoreList(response)"
   ]
  },
  {
   "cell_type": "markdown",
   "metadata": {},
   "source": [
    "## Prepare DataFrame\n",
    "\n",
    "Creating the DataFrame, dropping duplicates, sorting, and filtering for grocery stores within 1 mile of the origin."
   ]
  },
  {
   "cell_type": "code",
   "execution_count": null,
   "metadata": {},
   "outputs": [],
   "source": [
    "grocery_store_df = pd.DataFrame(grocery_store_list)\n",
    "grocery_store_df.drop_duplicates(subset='place_id', inplace=True)\n",
    "grocery_store_df = grocery_store_df.sort_values(by='distance_value').reset_index(drop=True)\n",
    "grocery_stores_within_1mi = grocery_store_df.loc[grocery_store_df['distance_value'] <= 1600]"
   ]
  },
  {
   "cell_type": "markdown",
   "metadata": {},
   "source": [
    "## Display the Result\n",
    "\n",
    "Display the result. Now that you've got `place_id`, you can use other Google APIs to get more information about that place. This is very solid start. You should consider building on top of this."
   ]
  },
  {
   "cell_type": "code",
   "execution_count": null,
   "metadata": {},
   "outputs": [],
   "source": [
    "grocery_stores_within_1mi"
   ]
  }
 ],
 "metadata": {
  "kernelspec": {
   "display_name": "Python 3",
   "language": "python",
   "name": "python3"
  },
  "language_info": {
   "codemirror_mode": {
    "name": "ipython",
    "version": 3
   },
   "file_extension": ".py",
   "mimetype": "text/x-python",
   "name": "python",
   "nbconvert_exporter": "python",
   "pygments_lexer": "ipython3",
   "version": "3.7.6"
  },
  "latex_envs": {
   "LaTeX_envs_menu_present": true,
   "autoclose": false,
   "autocomplete": true,
   "bibliofile": "biblio.bib",
   "cite_by": "apalike",
   "current_citInitial": 1,
   "eqLabelWithNumbers": true,
   "eqNumInitial": 1,
   "hotkeys": {
    "equation": "Ctrl-E",
    "itemize": "Ctrl-I"
   },
   "labels_anchors": false,
   "latex_user_defs": false,
   "report_style_numbering": false,
   "user_envs_cfg": false
  }
 },
 "nbformat": 4,
 "nbformat_minor": 2
}
