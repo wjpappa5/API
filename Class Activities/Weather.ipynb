{
 "cells": [
  {
   "cell_type": "code",
   "execution_count": 60,
   "metadata": {},
   "outputs": [],
   "source": [
    "# Dependencies\n",
    "import requests\n",
    "api_weather = \"8b7d56520bdedc7f815d70e636683b85\""
   ]
  },
  {
   "cell_type": "code",
   "execution_count": 99,
   "metadata": {},
   "outputs": [],
   "source": [
    "# Build query URL and request your results in Fahrenheit\n",
    "url = \"http://api.openweathermap.org/data/2.5/weather?\"\n",
    "city = \"Washington, D.C.\"\n",
    "units = \"imperial\"\n",
    "query_url = f\"{url}appid={api_weather}&q={city}&units={units}\"\n",
    "weather_response = requests.get(query_url)"
   ]
  },
  {
   "cell_type": "code",
   "execution_count": 100,
   "metadata": {
    "scrolled": true
   },
   "outputs": [
    {
     "data": {
      "text/plain": [
       "{'coord': {'lon': -120.5, 'lat': 47.5},\n",
       " 'weather': [{'id': 803,\n",
       "   'main': 'Clouds',\n",
       "   'description': 'broken clouds',\n",
       "   'icon': '04n'}],\n",
       " 'base': 'stations',\n",
       " 'main': {'temp': 42.06,\n",
       "  'feels_like': 37.99,\n",
       "  'temp_min': 41,\n",
       "  'temp_max': 43,\n",
       "  'pressure': 1015,\n",
       "  'humidity': 93},\n",
       " 'visibility': 10000,\n",
       " 'wind': {'speed': 3.36, 'deg': 300},\n",
       " 'clouds': {'all': 75},\n",
       " 'dt': 1604455236,\n",
       " 'sys': {'type': 1,\n",
       "  'id': 3917,\n",
       "  'country': 'US',\n",
       "  'sunrise': 1604414983,\n",
       "  'sunset': 1604450481},\n",
       " 'timezone': -28800,\n",
       " 'id': 5815135,\n",
       " 'name': 'Washington',\n",
       " 'cod': 200}"
      ]
     },
     "execution_count": 100,
     "metadata": {},
     "output_type": "execute_result"
    }
   ],
   "source": [
    "# Get temperature from JSON response\n",
    "weather_json = weather_response.json()\n",
    "weather_json"
   ]
  },
  {
   "cell_type": "code",
   "execution_count": 101,
   "metadata": {},
   "outputs": [
    {
     "data": {
      "text/plain": [
       "42.06"
      ]
     },
     "execution_count": 101,
     "metadata": {},
     "output_type": "execute_result"
    }
   ],
   "source": [
    "# Report temperature\n",
    "temperature = weather_json[\"main\"][\"temp\"]\n",
    "temperature"
   ]
  },
  {
   "cell_type": "code",
   "execution_count": 106,
   "metadata": {},
   "outputs": [
    {
     "data": {
      "text/plain": [
       "[5.59, 42.06]"
      ]
     },
     "execution_count": 106,
     "metadata": {},
     "output_type": "execute_result"
    }
   ],
   "source": [
    "units = [\"metric\", \"imperial\"]\n",
    "temperatures = []\n",
    "for unit in units:\n",
    "    query_url = url + \"appid=\" + api_weather + \"&q=\" + city + \"&units=\" + unit\n",
    "    weather_json = requests.get(query_url).json()\n",
    "    temperature = weather_json[\"main\"][\"temp\"]\n",
    "    temperatures.append(temperature)\n",
    "\n",
    "temperatures"
   ]
  },
  {
   "cell_type": "code",
   "execution_count": 108,
   "metadata": {},
   "outputs": [
    {
     "name": "stdout",
     "output_type": "stream",
     "text": [
      "The termpature in Washington, D.C. is 42.06 degrees F or 5.59 degrees C.\n"
     ]
    }
   ],
   "source": [
    "# Get and display temperature in both degrees Fahrenheit and Celcius\n",
    "print(f\"The termpature in {city} is {temperatures[1]} degrees F or {temperatures[0]} degrees C.\")"
   ]
  }
 ],
 "metadata": {
  "kernelspec": {
   "display_name": "Python 3",
   "language": "python",
   "name": "python3"
  },
  "language_info": {
   "codemirror_mode": {
    "name": "ipython",
    "version": 3
   },
   "file_extension": ".py",
   "mimetype": "text/x-python",
   "name": "python",
   "nbconvert_exporter": "python",
   "pygments_lexer": "ipython3",
   "version": "3.7.6"
  },
  "varInspector": {
   "cols": {
    "lenName": 16,
    "lenType": 16,
    "lenVar": 40
   },
   "kernels_config": {
    "python": {
     "delete_cmd_postfix": "",
     "delete_cmd_prefix": "del ",
     "library": "var_list.py",
     "varRefreshCmd": "print(var_dic_list())"
    },
    "r": {
     "delete_cmd_postfix": ") ",
     "delete_cmd_prefix": "rm(",
     "library": "var_list.r",
     "varRefreshCmd": "cat(var_dic_list()) "
    }
   },
   "types_to_exclude": [
    "module",
    "function",
    "builtin_function_or_method",
    "instance",
    "_Feature"
   ],
   "window_display": false
  }
 },
 "nbformat": 4,
 "nbformat_minor": 2
}
