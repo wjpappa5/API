{
 "cells": [
  {
   "cell_type": "code",
   "execution_count": 72,
   "metadata": {},
   "outputs": [],
   "source": [
    "# Create code to answer each of the following questions.\n",
    "# Hint: You will need multiple target URLs and multiple API requests.\n",
    "\n",
    "# Dependencies\n",
    "import requests\n",
    "import json\n",
    "import pandas as pd\n",
    "\n",
    "# Retrieve Google API key from config.py\n",
    "gkey =
   ]
  },
  {
   "cell_type": "code",
   "execution_count": 73,
   "metadata": {},
   "outputs": [
    {
     "name": "stdout",
     "output_type": "stream",
     "text": [
      "38.8799697 -77.1067698\n"
     ]
    }
   ],
   "source": [
    "# 1. What are the geocoordinates (latitude/longitude) of Arlington, VA\n",
    "target_city = \"Arlington, VA\"\n",
    "target_url = ('https://maps.googleapis.com/maps/api/geocode/json?'\n",
    "    'address={0}&key={1}').format(target_city, gkey)\n",
    "geo_data = requests.get(target_url).json()\n",
    "lat = geo_data[\"results\"][0][\"geometry\"][\"location\"][\"lat\"]\n",
    "lng = geo_data[\"results\"][0][\"geometry\"][\"location\"][\"lng\"]\n",
    "print(lat, lng)"
   ]
  },
  {
   "cell_type": "code",
   "execution_count": 74,
   "metadata": {},
   "outputs": [
    {
     "name": "stdout",
     "output_type": "stream",
     "text": [
      "38.8976633 -77.0365739\n"
     ]
    }
   ],
   "source": [
    "# 2. What are the geocoordinates (latitude/longitude) of The White House?\n",
    "target_add = \"1600 Pennslyvania Avenue NW, Washington, DC, 20006\"\n",
    "white_url = ('https://maps.googleapis.com/maps/api/geocode/json?'\n",
    "    'address={0}&key={1}').format(target_add, gkey)\n",
    "house_data = requests.get(white_url).json()\n",
    "latw = house_data[\"results\"][0][\"geometry\"][\"location\"][\"lat\"]\n",
    "lngw = house_data[\"results\"][0][\"geometry\"][\"location\"][\"lng\"]\n",
    "print(latw, lngw)"
   ]
  },
  {
   "cell_type": "code",
   "execution_count": 75,
   "metadata": {},
   "outputs": [
    {
     "name": "stdout",
     "output_type": "stream",
     "text": [
      "39.2903848 -76.6121893\n"
     ]
    }
   ],
   "source": [
    "target_bat = \"Baltimore, MD\"\n",
    "bat_url = ('https://maps.googleapis.com/maps/api/geocode/json?'\n",
    "    'address={0}&key={1}').format(target_bat, gkey)\n",
    "bat_data = requests.get(bat_url).json()\n",
    "latb = bat_data[\"results\"][0][\"geometry\"][\"location\"][\"lat\"]\n",
    "lngb = bat_data[\"results\"][0][\"geometry\"][\"location\"][\"lng\"]\n",
    "print(latb, lngb)"
   ]
  },
  {
   "cell_type": "code",
   "execution_count": 76,
   "metadata": {},
   "outputs": [
    {
     "name": "stdout",
     "output_type": "stream",
     "text": [
      "HandleBar Bike Shop\n",
      "511 South Caroline Street, Baltimore\n"
     ]
    }
   ],
   "source": [
    "# 3. Find the name and address of a bike store in Baltimore, MD\n",
    "#    Hint: See https://developers.google.com/places/web-service/supported_types\n",
    "target_coord = \"39.2903848, -76.6121893\"\n",
    "target_radius = 1600\n",
    "target_type = \"bicycle_store\"\n",
    "params = {\n",
    "    \"location\": target_coord,\n",
    "    \"radius\": target_radius,\n",
    "    \"type\": target_type,\n",
    "    \"key\": gkey\n",
    "}\n",
    "base_url = \"https://maps.googleapis.com/maps/api/place/nearbysearch/json\"\n",
    "response = requests.get(base_url, params=params)\n",
    "bike_data = response.json()\n",
    "print(bike_data[\"results\"][0][\"name\"])\n",
    "print(bike_data[\"results\"][0][\"vicinity\"])"
   ]
  },
  {
   "cell_type": "code",
   "execution_count": 77,
   "metadata": {},
   "outputs": [
    {
     "name": "stdout",
     "output_type": "stream",
     "text": [
      "BASHES\n",
      "DELIVERY ONLY (NO PICK UP, 1155 F St NW, Washington\n"
     ]
    }
   ],
   "source": [
    "# 4. Find a balloon store near the White House.\n",
    "target_coord_white = \"38.8976633 -77.0365739\"\n",
    "target_radius_white = 1600\n",
    "target_search = \"balloon\"\n",
    "target_type_white = \"store\"\n",
    "params = {\n",
    "    \"location\": target_coord_white,\n",
    "    \"keyword\": target_search,\n",
    "    \"radius\": target_radius_white,\n",
    "    \"type\": target_type_white,\n",
    "    \"key\": gkey\n",
    "}\n",
    "base_url_white = \"https://maps.googleapis.com/maps/api/place/nearbysearch/json\"\n",
    "response_white = requests.get(base_url_white, params=params)\n",
    "balloon_data = response_white.json()\n",
    "print(balloon_data[\"results\"][0][\"name\"])\n",
    "print(balloon_data[\"results\"][0][\"vicinity\"])"
   ]
  },
  {
   "cell_type": "code",
   "execution_count": 78,
   "metadata": {},
   "outputs": [
    {
     "name": "stdout",
     "output_type": "stream",
     "text": [
      "38.8976633 -77.0365739\n"
     ]
    }
   ],
   "source": [
    "target_apt = \"22 M Street NE, Washington, DC, 20002\"\n",
    "apt_url = ('https://maps.googleapis.com/maps/api/geocode/json?'\n",
    "    'address={0}&key={1}').format(target_apt, gkey)\n",
    "apt_data = requests.get(apt_url).json()\n",
    "lata = apt_data[\"results\"][0][\"geometry\"][\"location\"][\"lat\"]\n",
    "lnga = apt_data[\"results\"][0][\"geometry\"][\"location\"][\"lng\"]\n",
    "print(latw, lngw)"
   ]
  },
  {
   "cell_type": "code",
   "execution_count": 79,
   "metadata": {},
   "outputs": [
    {
     "name": "stdout",
     "output_type": "stream",
     "text": [
      "Daniel A. Pinto DDS, MS\n",
      "1747 Pennsylvania Avenue Northwest suite c-170, Washington\n"
     ]
    }
   ],
   "source": [
    "# 5. Find the nearest dentist to your house.\n",
    "#    Hint: Use Google Maps to find your latitude and Google Places to find the\n",
    "#    dentist. You will also need the rankby property.\n",
    "target_coord_dent = \"38.8976633 -77.0365739\"\n",
    "target_radius_dent = 1600\n",
    "target_type_dent = \"dentist\"\n",
    "params = {\n",
    "    \"location\": \"38.8976633 -77.0365739\",\n",
    "    \"rankby\": \"distance\",\n",
    "    \"type\": target_type_dent,\n",
    "    \"key\": gkey,\n",
    "}\n",
    "base_url_dent = \"https://maps.googleapis.com/maps/api/place/nearbysearch/json\"\n",
    "response_dent = requests.get(base_url_dent, params=params)\n",
    "dent_data = response_dent.json()\n",
    "print(dent_data[\"results\"][0][\"name\"])\n",
    "print(dent_data[\"results\"][0][\"vicinity\"])"
   ]
  },
  {
   "cell_type": "code",
   "execution_count": 81,
   "metadata": {},
   "outputs": [],
   "source": [
    "# 6. Bonus: Find the names and addresses of the top five restaurants in your home city.\n",
    "#    Hint: Read about \"Text Search Results\"\n",
    "# (https://developers.google.com/places/web-service/search#TextSearchRequests)\n",
    "target_coord_rest = \"38.8976633 -77.0365739\"\n",
    "target_radius_rest = 1600\n",
    "target_type_rest = \"restaurant\"\n",
    "params = {\n",
    "    \"location\": \"38.8976633 -77.0365739\",\n",
    "    \"rankby\": \"distance\",\n",
    "    \"type\": target_type_rest,\n",
    "    \"key\": gkey,\n",
    "}\n",
    "base_url_rest = \"https://maps.googleapis.com/maps/api/place/nearbysearch/json\"\n",
    "response_rest = requests.get(base_url_rest, params=params)"
   ]
  },
  {
   "cell_type": "code",
   "execution_count": 99,
   "metadata": {},
   "outputs": [
    {
     "data": {
      "text/plain": [
       "name\n",
       "Joe's Seafood, Prime Steak & Stone Crab    4.7\n",
       "Old Ebbitt Grill                           4.6\n",
       "Immigrant Food                             4.5\n",
       "Chopt Creative Salad Co.                   4.5\n",
       "Sofitel Washington DC Lafayette Square     4.5\n",
       "Name: rating, dtype: float64"
      ]
     },
     "execution_count": 99,
     "metadata": {},
     "output_type": "execute_result"
    }
   ],
   "source": [
    "rest_data = response_rest.json()\n",
    "rest_data = pd.DataFrame(rest_data['results'])\n",
    "names = rest_data.set_index(['name'])\n",
    "namesorted = names.sort_values(['rating'],ascending= False)\n",
    "namesorted[\"rating\"].head()"
   ]
  }
 ],
 "metadata": {
  "kernelspec": {
   "display_name": "Python 3",
   "language": "python",
   "name": "python3"
  },
  "language_info": {
   "codemirror_mode": {
    "name": "ipython",
    "version": 3
   },
   "file_extension": ".py",
   "mimetype": "text/x-python",
   "name": "python",
   "nbconvert_exporter": "python",
   "pygments_lexer": "ipython3",
   "version": "3.7.6"
  }
 },
 "nbformat": 4,
 "nbformat_minor": 2
}
